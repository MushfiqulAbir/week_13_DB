{
 "cells": [
  {
   "cell_type": "markdown",
   "id": "df4757b7",
   "metadata": {},
   "source": [
    "The site I choose is Youtube. It is a free video streaming service that has paid and free services. Most people use the free services. It uses a recommender system to suggest videos that viewer may enjoy. People all around the world upload videos on youtube now a days. It's a great platform for entertainment and learning. Usually, youtube doesn't remove any videos unless reported. \n",
    "\n",
    "\n",
    "1. Who are your users?\n",
    "\n",
    "Anyone who have access to youtube with a gmail account is my users. They can use the youtube app or their official website.\n",
    "\n",
    "2. What are their key goals?\n",
    "\n",
    "Key goal is to suggest videos accroding to viewers interest. Youtube may ask the users what kind of videos the user wan tto view. They have child protection as well.\n",
    "\n",
    "3. How can you help them accomplish those goals?\n",
    "\n",
    "I would use the users viewing category to gather the history of what kind of videos the user like to watch. I will comapre the history with prevous months/ weeks history to find out if the user is contuniously watching the same category videos. For example if I see the category is entertainment, I will suggest videos that will entertainmet. "
   ]
  }
 ],
 "metadata": {
  "kernelspec": {
   "display_name": "Python 3 (ipykernel)",
   "language": "python",
   "name": "python3"
  },
  "language_info": {
   "codemirror_mode": {
    "name": "ipython",
    "version": 3
   },
   "file_extension": ".py",
   "mimetype": "text/x-python",
   "name": "python",
   "nbconvert_exporter": "python",
   "pygments_lexer": "ipython3",
   "version": "3.8.12"
  }
 },
 "nbformat": 4,
 "nbformat_minor": 5
}
